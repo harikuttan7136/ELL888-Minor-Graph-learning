{
  "nbformat": 4,
  "nbformat_minor": 0,
  "metadata": {
    "colab": {
      "name": "Graph learning large n.ipynb",
      "provenance": [],
      "collapsed_sections": [],
      "authorship_tag": "ABX9TyN/bZMrFnDU6TJzgxpBLtBC",
      "include_colab_link": true
    },
    "kernelspec": {
      "name": "python3",
      "display_name": "Python 3"
    },
    "language_info": {
      "name": "python"
    }
  },
  "cells": [
    {
      "cell_type": "markdown",
      "metadata": {
        "id": "view-in-github",
        "colab_type": "text"
      },
      "source": [
        "<a href=\"https://colab.research.google.com/github/harikuttan7136/ELL888-Minor-Graph-learning/blob/main/Graph_learning_large_n.ipynb\" target=\"_parent\"><img src=\"https://colab.research.google.com/assets/colab-badge.svg\" alt=\"Open In Colab\"/></a>"
      ]
    },
    {
      "cell_type": "code",
      "execution_count": null,
      "metadata": {
        "id": "FCnTtm18ygmJ"
      },
      "outputs": [],
      "source": [
        "import pandas as pd\n",
        "import numpy as np\n",
        "import sys\n",
        "import time\n",
        "from sklearn.model_selection import train_test_split\n",
        "np.set_printoptions(threshold=sys.maxsize)"
      ]
    },
    {
      "cell_type": "code",
      "source": [
        "from sklearn.cluster import MiniBatchKMeans\n",
        "from sklearn.metrics.pairwise import euclidean_distances"
      ],
      "metadata": {
        "id": "fr6JZaac9f0t"
      },
      "execution_count": null,
      "outputs": []
    },
    {
      "cell_type": "code",
      "source": [
        "from google.colab import files\n",
        "uploaded = files.upload()"
      ],
      "metadata": {
        "id": "5UrlRvxr0GdL",
        "colab": {
          "resources": {
            "http://localhost:8080/nbextensions/google.colab/files.js": {
              "data": "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",
              "ok": true,
              "headers": [
                [
                  "content-type",
                  "application/javascript"
                ]
              ],
              "status": 200,
              "status_text": ""
            }
          },
          "base_uri": "https://localhost:8080/",
          "height": 74
        },
        "outputId": "db069a40-c0ed-489c-af7f-a62c0ff884b1"
      },
      "execution_count": null,
      "outputs": [
        {
          "output_type": "display_data",
          "data": {
            "text/html": [
              "\n",
              "     <input type=\"file\" id=\"files-cfc7d9ea-312d-470a-afab-1e369393f29a\" name=\"files[]\" multiple disabled\n",
              "        style=\"border:none\" />\n",
              "     <output id=\"result-cfc7d9ea-312d-470a-afab-1e369393f29a\">\n",
              "      Upload widget is only available when the cell has been executed in the\n",
              "      current browser session. Please rerun this cell to enable.\n",
              "      </output>\n",
              "      <script src=\"/nbextensions/google.colab/files.js\"></script> "
            ],
            "text/plain": [
              "<IPython.core.display.HTML object>"
            ]
          },
          "metadata": {}
        },
        {
          "output_type": "stream",
          "name": "stdout",
          "text": [
            "Saving spambase.data to spambase (1).data\n"
          ]
        }
      ]
    },
    {
      "cell_type": "code",
      "source": [
        "import io\n",
        "df = pd.read_csv(io.BytesIO(uploaded['spambase.data']),header=None)\n",
        "#df = pd.read_csv(io.BytesIO(uploaded['HTRU_2.csv']),header=None)\n",
        "df=df.drop_duplicates()"
      ],
      "metadata": {
        "id": "pKiNl7yM77Lf"
      },
      "execution_count": null,
      "outputs": []
    },
    {
      "cell_type": "code",
      "source": [
        "# seprating data to X and Y labels\n",
        "X=df.drop(57,axis=1).to_numpy()\n",
        "Y=df[57].to_numpy()"
      ],
      "metadata": {
        "id": "vHmWjjwA8b7a"
      },
      "execution_count": null,
      "outputs": []
    },
    {
      "cell_type": "code",
      "source": [
        "# mean normalisation\n",
        "def meannormalize(X):\n",
        "  mean=np.mean(X,axis=0)\n",
        "  std=np.std(X,axis=0)\n",
        "  return [(X-mean)/std,mean,std]"
      ],
      "metadata": {
        "id": "RVB_T2qI9FMU"
      },
      "execution_count": null,
      "outputs": []
    },
    {
      "cell_type": "code",
      "source": [
        "X,mean,std=meannormalize(X)"
      ],
      "metadata": {
        "id": "ZNM3RqYi9MOh"
      },
      "execution_count": null,
      "outputs": []
    },
    {
      "cell_type": "code",
      "source": [
        ""
      ],
      "metadata": {
        "id": "qc1gJgCpUSaN"
      },
      "execution_count": null,
      "outputs": []
    },
    {
      "cell_type": "code",
      "source": [
        "X_train, X_test, y_train, y_test = train_test_split(X, Y, test_size=0.20, random_state=42)"
      ],
      "metadata": {
        "id": "KgX3aIgk852f"
      },
      "execution_count": null,
      "outputs": []
    },
    {
      "cell_type": "code",
      "source": [
        "X_train.shape"
      ],
      "metadata": {
        "colab": {
          "base_uri": "https://localhost:8080/"
        },
        "id": "uykje9ujnhyG",
        "outputId": "394b3369-5778-438a-f77f-1b4f22e5c3fd"
      },
      "execution_count": null,
      "outputs": [
        {
          "output_type": "execute_result",
          "data": {
            "text/plain": [
              "(3368, 57)"
            ]
          },
          "metadata": {},
          "execution_count": 242
        }
      ]
    },
    {
      "cell_type": "code",
      "source": [
        "# running minibatch Kmeans using the MiniBatchKmeans package in sklearn\n",
        "start = time.time()\n",
        "n_clusters=3\n",
        "kmeans = MiniBatchKMeans(n_clusters=n_clusters,random_state=0,batch_size=6,max_iter=10).fit(X_train)\n",
        "end = time.time()\n",
        "\n",
        "time_taken=(end-start)"
      ],
      "metadata": {
        "id": "7Ga9DXwF9JZC"
      },
      "execution_count": null,
      "outputs": []
    },
    {
      "cell_type": "code",
      "source": [
        ""
      ],
      "metadata": {
        "id": "BhijV1Wo9sFY"
      },
      "execution_count": null,
      "outputs": []
    },
    {
      "cell_type": "code",
      "source": [
        ""
      ],
      "metadata": {
        "id": "OjXh9PU19ula"
      },
      "execution_count": null,
      "outputs": []
    },
    {
      "cell_type": "code",
      "source": [
        "# kNN getting the edges with kNN graph \n",
        "def kNN_graph(X,k=10):\n",
        "  n=X.shape[0]\n",
        "  E=np.zeros((n,n))\n",
        "  D=euclidean_distances(X, X)\n",
        "  print(D.shape)\n",
        "  for i in range(n):\n",
        "    dist=D[i]\n",
        "    idx = np.argpartition(dist, k)\n",
        "    count=0\n",
        "    for j in idx :\n",
        "      if i!=j and i in (np.argpartition(D[j], k)):\n",
        "        E[i][j]=1\n",
        "        count+=1\n",
        "      if count==k:\n",
        "        break\n",
        "  return E,D"
      ],
      "metadata": {
        "id": "3yhM-uwU9815"
      },
      "execution_count": null,
      "outputs": []
    },
    {
      "cell_type": "code",
      "source": [
        "#getting within cluster edges and weights\n",
        "start=time.time()\n",
        "mask=[]\n",
        "within_cluster_edges=[]\n",
        "within_cluster_distance=[]\n",
        "tot_in_cluster=[]\n",
        "centroids=kmeans.cluster_centers_\n",
        "cluster=kmeans.predict(X_train)\n",
        "tot_N=X_train.shape[0]\n",
        "k=10\n",
        "for i in range(n_clusters):\n",
        "  temp=(cluster==i)\n",
        "  mask.append(temp)\n",
        "  E,D=kNN_graph(X_train[temp],k=k)\n",
        "  within_cluster_edges.append(E)\n",
        "  within_cluster_distance.append(D)\n",
        "  tot_in_cluster.append(E.shape[0])  \n",
        "end=time.time()\n",
        "time_taken+=(end-start)"
      ],
      "metadata": {
        "colab": {
          "base_uri": "https://localhost:8080/"
        },
        "id": "uE4Y2qJBCw3R",
        "outputId": "569ab874-1583-4a0e-b280-230457ed3628"
      },
      "execution_count": null,
      "outputs": [
        {
          "output_type": "stream",
          "name": "stdout",
          "text": [
            "(2478, 2478)\n",
            "(617, 617)\n",
            "(273, 273)\n"
          ]
        }
      ]
    },
    {
      "cell_type": "code",
      "source": [
        "#no of samples in each cluster\n",
        "print(tot_in_cluster)"
      ],
      "metadata": {
        "colab": {
          "base_uri": "https://localhost:8080/"
        },
        "id": "GacxXQa9Ucy_",
        "outputId": "d66ac549-c837-4ced-9c68-af6012b15149"
      },
      "execution_count": null,
      "outputs": [
        {
          "output_type": "stream",
          "name": "stdout",
          "text": [
            "[2478, 617, 273]\n"
          ]
        }
      ]
    },
    {
      "cell_type": "code",
      "source": [
        "# combining the edge and distance matrices to one diagonal matrix \n",
        "def diag_block_mat_slicing(edge_list,distance_list,tot_in_cluster):\n",
        "    N = len(edge_list)\n",
        "    Edge_matrix=[]\n",
        "    Distance_matrix=[]\n",
        "    for i in range(N):\n",
        "      E=edge_list[i]\n",
        "      D=distance_list[i]\n",
        "      temp=np.zeros((len(E),tot_in_cluster[0]))\n",
        "      temp1=np.zeros((len(E),tot_in_cluster[0]))\n",
        "      for j in range(1,i):\n",
        "        temp=np.append(temp,np.zeros((len(E),tot_in_cluster[j])),axis=1)\n",
        "        temp1=np.append(temp1,np.zeros((len(E),tot_in_cluster[j])),axis=1)\n",
        "      \n",
        "      if i!=0:\n",
        "        temp=np.append(temp,E,axis=1)\n",
        "        temp1=np.append(temp1,D,axis=1)\n",
        "      else:\n",
        "        temp=E\n",
        "        temp1=D\n",
        "\n",
        "      for j in range(i+1,N):\n",
        "        temp=np.append(temp,np.zeros((len(E),tot_in_cluster[j])),axis=1)\n",
        "        temp1=np.append(temp1,np.zeros((len(E),tot_in_cluster[j])),axis=1)\n",
        "      Edge_matrix.append(temp)\n",
        "      Distance_matrix.append(temp1)\n",
        "    final_list=np.array(Edge_matrix[0])\n",
        "    final_list1=np.array(Distance_matrix[0])\n",
        "    for i in range(1,N):\n",
        "      final_list=np.append(final_list,np.array(Edge_matrix[i]),axis=0)\n",
        "      final_list1=np.append(final_list1,np.array(Distance_matrix[i]),axis=0)\n",
        "    return final_list,final_list1"
      ],
      "metadata": {
        "id": "Hz6lFAwCCxAT"
      },
      "execution_count": null,
      "outputs": []
    },
    {
      "cell_type": "code",
      "source": [
        "start=time.time()\n",
        "Edge_matrix,Distance_matrix=diag_block_mat_slicing(within_cluster_edges,within_cluster_distance,tot_in_cluster)\n",
        "end=time.time()\n",
        "time_taken+=(end-start)"
      ],
      "metadata": {
        "id": "im6hMmnbFh_j"
      },
      "execution_count": null,
      "outputs": []
    },
    {
      "cell_type": "code",
      "source": [
        "centroids.shape"
      ],
      "metadata": {
        "colab": {
          "base_uri": "https://localhost:8080/"
        },
        "id": "FEbPqJhyUgAa",
        "outputId": "38bd4a31-d989-4f54-a2a8-80a55176d67a"
      },
      "execution_count": null,
      "outputs": [
        {
          "output_type": "execute_result",
          "data": {
            "text/plain": [
              "(3, 57)"
            ]
          },
          "metadata": {},
          "execution_count": 249
        }
      ]
    },
    {
      "cell_type": "code",
      "source": [
        "# get the nodes furthest from the centroids\n",
        "def get_furthest_from_centroid(centroids,mask,Xtrain,k):\n",
        "  num_clusters=centroids.shape[0]\n",
        "  furthest_points=[]\n",
        "  X_furthest=[]\n",
        "  for i in range(num_clusters):\n",
        "    temp=Xtrain[mask[i]]\n",
        "    distance_from_centroid=euclidean_distances(temp,centroids[i].reshape(1,-1)).reshape(-1)\n",
        "    idx=np.argsort(distance_from_centroid.reshape(-1))[-k:]\n",
        "    for z in idx:\n",
        "      X_furthest.append(X_train[z])\n",
        "    furthest_points.append(idx[:k])\n",
        "  return np.array(furthest_points),np.array(X_furthest)\n"
      ],
      "metadata": {
        "id": "LJTcHcGwOwhZ"
      },
      "execution_count": null,
      "outputs": []
    },
    {
      "cell_type": "code",
      "source": [
        "start=time.time()\n",
        "no_of_points_furthest=30\n",
        "fur_pnt_idx,X_furthest=get_furthest_from_centroid(centroids,mask,X_train,no_of_points_furthest)\n",
        "end=time.time()\n",
        "time_taken+=(end-start)"
      ],
      "metadata": {
        "id": "29qoaBzUWfDq"
      },
      "execution_count": null,
      "outputs": []
    },
    {
      "cell_type": "code",
      "source": [
        "fur_pnt_idx.shape"
      ],
      "metadata": {
        "colab": {
          "base_uri": "https://localhost:8080/"
        },
        "id": "Zu53xR5Ch6jT",
        "outputId": "6b8bdf6e-5f4f-479f-e05e-dc20d81416ce"
      },
      "execution_count": null,
      "outputs": [
        {
          "output_type": "execute_result",
          "data": {
            "text/plain": [
              "(3, 30)"
            ]
          },
          "metadata": {},
          "execution_count": 252
        }
      ]
    },
    {
      "cell_type": "code",
      "source": [
        "(X_furthest).shape"
      ],
      "metadata": {
        "colab": {
          "base_uri": "https://localhost:8080/"
        },
        "id": "yQ_nJweAXZCX",
        "outputId": "20768fe8-226e-4e84-e5a4-2f82accfd172"
      },
      "execution_count": null,
      "outputs": [
        {
          "output_type": "execute_result",
          "data": {
            "text/plain": [
              "(90, 57)"
            ]
          },
          "metadata": {},
          "execution_count": 253
        }
      ]
    },
    {
      "cell_type": "code",
      "source": [
        "start=time.time()\n",
        "E_within,D_within=kNN_graph(X_furthest,k=10)\n",
        "end=time.time()\n",
        "time_taken+=(end-start)"
      ],
      "metadata": {
        "colab": {
          "base_uri": "https://localhost:8080/"
        },
        "id": "avkCG7P9fJun",
        "outputId": "76141db0-a4dc-4a1b-812f-45d322460949"
      },
      "execution_count": null,
      "outputs": [
        {
          "output_type": "stream",
          "name": "stdout",
          "text": [
            "(90, 90)\n"
          ]
        }
      ]
    },
    {
      "cell_type": "code",
      "source": [
        "#combining within Cluster and Intra cluster Edge and Distance matrices\n",
        "start=time.time()\n",
        "for i in range(E_within.shape[0]):\n",
        "  cluster_i=int(i/no_of_points_furthest)\n",
        "  x=int(fur_pnt_idx[cluster_i][i%no_of_points_furthest]+np.sum(tot_in_cluster[:cluster_i]))\n",
        "  for j in range(E_within.shape[0]):\n",
        "    cluster_j=int(j/no_of_points_furthest)\n",
        "    if (cluster_i == cluster_j or E_within[i][j]==0):\n",
        "      continue\n",
        "    y=int(fur_pnt_idx[cluster_j][j%no_of_points_furthest]+np.sum(tot_in_cluster[:cluster_j]))\n",
        "    #print(\"x is \"+str(x)+\" y is \"+str(y))\n",
        "    Edge_matrix[x][y]=E_within[i][j]\n",
        "    Distance_matrix[x][y]=D_within[i][j]\n",
        "end=time.time()\n",
        "time_taken+=(end-start)"
      ],
      "metadata": {
        "id": "hl3pEJyngEKT"
      },
      "execution_count": null,
      "outputs": []
    },
    {
      "cell_type": "code",
      "source": [
        "# pruning the extra edges for each node after combining the Cluster and Intra cluster Edge and Distance matrices\n",
        "start=time.time()\n",
        "for i in range(tot_N):\n",
        "  E_i=Edge_matrix[i]\n",
        "  D_i=Distance_matrix[i]\n",
        "  if(np.sum(E_i)>k):\n",
        "    #print(i)\n",
        "    no_removed=int(np.sum(E_i)-k)\n",
        "    idx=np.argsort(D_i*E_i)[-no_removed:]\n",
        "    for j in idx:\n",
        "      Edge_matrix[i][j]=0 \n",
        "end=time.time()\n",
        "time_taken+=(end-start)    "
      ],
      "metadata": {
        "id": "bU3EDreDj54y"
      },
      "execution_count": null,
      "outputs": []
    },
    {
      "cell_type": "code",
      "source": [
        "#check for seeeing that all nodes have degree=k after pruning\n",
        "for i in range(tot_N):\n",
        "  if (np.sum(Edge_matrix[i])!=k):\n",
        "    print(np.sum(Edge_matrix[i]))"
      ],
      "metadata": {
        "id": "WJa-Kzb4nxWB"
      },
      "execution_count": null,
      "outputs": []
    },
    {
      "cell_type": "code",
      "source": [
        ""
      ],
      "metadata": {
        "id": "MuoYWj9fsauV"
      },
      "execution_count": null,
      "outputs": []
    },
    {
      "cell_type": "code",
      "source": [
        "def gaussian_weight(E,D,var=1):\n",
        "  return np.multiply(E,np.exp(-D)/(2*var))"
      ],
      "metadata": {
        "id": "CkaALYjasazi"
      },
      "execution_count": null,
      "outputs": []
    },
    {
      "cell_type": "code",
      "source": [
        "np.max(Edge_matrix)"
      ],
      "metadata": {
        "colab": {
          "base_uri": "https://localhost:8080/"
        },
        "id": "LEs1VJ1psbKF",
        "outputId": "95ca4f0d-d3ed-48e9-b990-3fa33d78359d"
      },
      "execution_count": null,
      "outputs": [
        {
          "output_type": "execute_result",
          "data": {
            "text/plain": [
              "1.0"
            ]
          },
          "metadata": {},
          "execution_count": 259
        }
      ]
    },
    {
      "cell_type": "code",
      "source": [
        "start=time.time()\n",
        "W=gaussian_weight(Edge_matrix,Distance_matrix,var=1)\n",
        "end=time.time()\n",
        "time_taken+=(end-start)"
      ],
      "metadata": {
        "id": "fmCaXP65sc-4"
      },
      "execution_count": null,
      "outputs": []
    },
    {
      "cell_type": "code",
      "source": [
        "W.shape"
      ],
      "metadata": {
        "colab": {
          "base_uri": "https://localhost:8080/"
        },
        "id": "p_UmWGLSseiF",
        "outputId": "739ec75c-4545-46b5-8e2e-a5d9e1813d1c"
      },
      "execution_count": null,
      "outputs": [
        {
          "output_type": "execute_result",
          "data": {
            "text/plain": [
              "(3368, 3368)"
            ]
          },
          "metadata": {},
          "execution_count": 261
        }
      ]
    },
    {
      "cell_type": "code",
      "source": [
        "print(\"Total time taken for the algorithm is \"+str(time_taken)+\"s\")"
      ],
      "metadata": {
        "colab": {
          "base_uri": "https://localhost:8080/"
        },
        "id": "FGZmYuKfsfo_",
        "outputId": "bc0343a1-a97a-493e-f30c-96e5cc95cc86"
      },
      "execution_count": null,
      "outputs": [
        {
          "output_type": "stream",
          "name": "stdout",
          "text": [
            "Total time taken for the algorithm is 2.3452799320220947s\n"
          ]
        }
      ]
    },
    {
      "cell_type": "code",
      "source": [
        "#normal KNN to measure the time taken"
      ],
      "metadata": {
        "id": "WAUjCWIALeDC"
      },
      "execution_count": null,
      "outputs": []
    },
    {
      "cell_type": "code",
      "source": [
        "start=time.time()\n",
        "E1,D1=kNN_graph(X_train)\n",
        "W=gaussian_weight(E1,D1,var=1)\n",
        "end=time.time()\n",
        "print(end-start)"
      ],
      "metadata": {
        "colab": {
          "base_uri": "https://localhost:8080/"
        },
        "id": "fhwM9elTLeFc",
        "outputId": "235f2950-6533-49bd-aeea-2579ec6f1e59"
      },
      "execution_count": null,
      "outputs": [
        {
          "output_type": "stream",
          "name": "stdout",
          "text": [
            "(3368, 3368)\n",
            "2.056877374649048\n"
          ]
        }
      ]
    },
    {
      "cell_type": "code",
      "source": [
        " #HTRU_2 \n",
        " #1789 samples 1.308 0.706\n",
        " #3579 samples 1.97  2.76\n",
        " #5369 samples 4.003  6.125\n",
        " #7159 samples 6.144  10.211\n",
        " #8949 samples 8.698  17.843\n",
        " #10738 samples 14.725 28.061\n",
        " #12528 samples 15.44 30.71 "
      ],
      "metadata": {
        "id": "DP9FsX4oLeIH"
      },
      "execution_count": null,
      "outputs": []
    },
    {
      "cell_type": "code",
      "source": [
        "import matplotlib.pyplot as plt\n",
        "x1=[1789,3579,5369,7159,8949,10738,12528]\n",
        "y1=[1.308,1.97,4.003,6.144,8.698,14.725,15.44]\n",
        "y2=[0.706,2.76,6.125,10.211,17.843,28.061,30.71]\n",
        "plt.plot(x1, y1, label = \"new\")\n",
        "plt.plot(x1, y2, label = \"direct\")\n",
        "plt.xlabel('Number of samples')\n",
        "# Set the y axis label of the current axis.\n",
        "plt.ylabel('Time taken(s)')"
      ],
      "metadata": {
        "colab": {
          "base_uri": "https://localhost:8080/",
          "height": 296
        },
        "id": "AVXq22GLLeLn",
        "outputId": "e24ecb6e-30a4-4818-a32e-6ebf4fdb68f2"
      },
      "execution_count": null,
      "outputs": [
        {
          "output_type": "execute_result",
          "data": {
            "text/plain": [
              "Text(0, 0.5, 'Time taken(s)')"
            ]
          },
          "metadata": {},
          "execution_count": 36
        },
        {
          "output_type": "display_data",
          "data": {
            "image/png": "[encoded data removed]",
            "text/plain": [
              "<Figure size 432x288 with 1 Axes>"
            ]
          },
          "metadata": {
            "needs_background": "light"
          }
        }
      ]
    },
    {
      "cell_type": "code",
      "source": [
        ""
      ],
      "metadata": {
        "id": "APM0nrjZKGaB"
      },
      "execution_count": null,
      "outputs": []
    },
    {
      "cell_type": "code",
      "source": [
        ""
      ],
      "metadata": {
        "id": "2aWYYPdWRimI"
      },
      "execution_count": null,
      "outputs": []
    },
    {
      "cell_type": "code",
      "source": [
        ""
      ],
      "metadata": {
        "id": "v-xpluWNRipw"
      },
      "execution_count": null,
      "outputs": []
    },
    {
      "cell_type": "code",
      "source": [
        ""
      ],
      "metadata": {
        "id": "m2epk_cmRisQ"
      },
      "execution_count": null,
      "outputs": []
    },
    {
      "cell_type": "code",
      "source": [
        "tot_N"
      ],
      "metadata": {
        "colab": {
          "base_uri": "https://localhost:8080/"
        },
        "id": "QZEGIGcIRiuy",
        "outputId": "43fbc0c7-35b7-4063-c4e6-9a9cc1785330"
      },
      "execution_count": null,
      "outputs": [
        {
          "output_type": "execute_result",
          "data": {
            "text/plain": [
              "3368"
            ]
          },
          "metadata": {},
          "execution_count": 155
        }
      ]
    },
    {
      "cell_type": "code",
      "source": [
        "edge=[]\n",
        "x0=[]\n",
        "x1=[]\n",
        "for i in range(tot_N):\n",
        "  for j in range(tot_N):\n",
        "    if i<tot_in_cluster[0] and j>tot_in_cluster[0] and j<tot_in_cluster[0]+tot_in_cluster[1] and Edge_matrix[i][j]>0:\n",
        "      x0.append(i)\n",
        "      x1.append(j)\n",
        "      edge.append([i,j])"
      ],
      "metadata": {
        "id": "1WB0Uo5qRiyx"
      },
      "execution_count": null,
      "outputs": []
    },
    {
      "cell_type": "code",
      "source": [
        "tot_in_cluster"
      ],
      "metadata": {
        "colab": {
          "base_uri": "https://localhost:8080/"
        },
        "id": "HCSc-DjvRi2P",
        "outputId": "f8302689-d3b2-4518-8ab6-0f38e1cb2849"
      },
      "execution_count": null,
      "outputs": [
        {
          "output_type": "execute_result",
          "data": {
            "text/plain": [
              "[2478, 617, 273]"
            ]
          },
          "metadata": {},
          "execution_count": 222
        }
      ]
    },
    {
      "cell_type": "code",
      "source": [
        "x0=np.unique(x0)\n",
        "x1=np.unique(x1)"
      ],
      "metadata": {
        "id": "Ipfkkm-iOR4l"
      },
      "execution_count": null,
      "outputs": []
    },
    {
      "cell_type": "code",
      "source": [
        "import networkx as nx \n",
        "import matplotlib.pyplot as plt\n",
        "from networkx.algorithms import bipartite\n",
        "G = nx.DiGraph()"
      ],
      "metadata": {
        "id": "8fwbRzTgOR9R"
      },
      "execution_count": null,
      "outputs": []
    },
    {
      "cell_type": "code",
      "source": [
        "#G.add_nodes_from(np.unique(x0),bipartite=0)\n",
        "#G.add_nodes_from(np.unique(x1),bipartite=1)\n",
        "for i in x0:\n",
        "  G.add_node(i,pos=X_train[i],color=\"blue\")\n",
        "for j in x1:\n",
        "  G.add_node(j,pos=X_train[j],color=\"green\")"
      ],
      "metadata": {
        "id": "i7Bt9iAuOR_i"
      },
      "execution_count": null,
      "outputs": []
    },
    {
      "cell_type": "code",
      "source": [
        "G.add_edges_from(edge)"
      ],
      "metadata": {
        "id": "X2ABPnHiOSCA"
      },
      "execution_count": null,
      "outputs": []
    },
    {
      "cell_type": "code",
      "source": [
        "nodePos = nx.circular_layout(G)"
      ],
      "metadata": {
        "id": "-eSRz8DMY6Y-"
      },
      "execution_count": null,
      "outputs": []
    },
    {
      "cell_type": "code",
      "source": [
        "colored_dict = nx.get_node_attributes(G, 'color')\n",
        "\n",
        "default_color = 'blue'\n",
        "color_seq = [colored_dict.get(node, default_color) for node in G.nodes()]\n",
        "\n"
      ],
      "metadata": {
        "id": "1VxRp7ILOSFV"
      },
      "execution_count": null,
      "outputs": []
    },
    {
      "cell_type": "code",
      "source": [
        "nx.draw_networkx(G ,with_labels=False,node_color=color_seq)"
      ],
      "metadata": {
        "colab": {
          "base_uri": "https://localhost:8080/",
          "height": 248
        },
        "id": "R8FR_H6HW5oJ",
        "outputId": "55db8aab-9fa8-422a-8406-61ec372552e1"
      },
      "execution_count": null,
      "outputs": [
        {
          "output_type": "display_data",
          "data": {
            "image/png": "[encoded data removed]",
            "text/plain": [
              "<Figure size 432x288 with 1 Axes>"
            ]
          },
          "metadata": {}
        }
      ]
    },
    {
      "cell_type": "code",
      "source": [
        ""
      ],
      "metadata": {
        "id": "j75IDX1DXGts"
      },
      "execution_count": null,
      "outputs": []
    }
  ]
}